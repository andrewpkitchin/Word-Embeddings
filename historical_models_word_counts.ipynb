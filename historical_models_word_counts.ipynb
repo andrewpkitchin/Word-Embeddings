{
  "nbformat": 4,
  "nbformat_minor": 0,
  "metadata": {
    "colab": {
      "name": "historic_models_word_counts.ipynb",
      "provenance": [],
      "authorship_tag": "ABX9TyOExlWf4MJNOUS3gmxrsBt/",
      "include_colab_link": true
    },
    "kernelspec": {
      "name": "python2",
      "display_name": "Python 2"
    },
    "accelerator": "GPU"
  },
  "cells": [
    {
      "cell_type": "markdown",
      "metadata": {
        "id": "view-in-github",
        "colab_type": "text"
      },
      "source": [
        "<a href=\"https://colab.research.google.com/github/andrewpkitchin/word-embeddings-reveal-widening-circles-of-moral-concern-across-the-19th-and-20th-centuries/blob/master/historic_models_word_counts.ipynb\" target=\"_parent\"><img src=\"https://colab.research.google.com/assets/colab-badge.svg\" alt=\"Open In Colab\"/></a>"
      ]
    },
    {
      "cell_type": "markdown",
      "metadata": {
        "id": "Wy9pJ2H9cWoP",
        "colab_type": "text"
      },
      "source": [
        "In this notebook we will demonstrate how to use the historic word embedding models supported by the Histwords library to generate the results used in [link to paper]. We will extract the word counts for each word including in our results.\n",
        "We suggest mounting a google drive to output results as csv files of cosines for each model.\n",
        "To use this notebook you will need to clone the Histwords github repository found here: https://github.com/williamleif/histwords as well as download the \n",
        "All English (1800s-1990s) pretrained models found here: https://nlp.stanford.edu/projects/histwords/.  "
      ]
    },
    {
      "cell_type": "code",
      "metadata": {
        "id": "Rjate5Vz1PKo",
        "colab_type": "code",
        "colab": {}
      },
      "source": [
        "# Dependancies\n",
        "\n",
        "import csv\n",
        "from google.colab import drive\n",
        "import numpy as np"
      ],
      "execution_count": 0,
      "outputs": []
    },
    {
      "cell_type": "code",
      "metadata": {
        "id": "kEy5lgxHdstf",
        "colab_type": "code",
        "colab": {}
      },
      "source": [
        "drive.mount('/content/drive')\n",
        "\n",
        "%cd drive/My\\ Drive/word2vecProject/histwords"
      ],
      "execution_count": 0,
      "outputs": []
    },
    {
      "cell_type": "code",
      "metadata": {
        "id": "-0LZGNAM16Nh",
        "colab_type": "code",
        "colab": {}
      },
      "source": [
        "from ioutils import load_pickle, write_pickle"
      ],
      "execution_count": 0,
      "outputs": []
    },
    {
      "cell_type": "code",
      "metadata": {
        "id": "iuETwl3P9rbV",
        "colab_type": "code",
        "colab": {}
      },
      "source": [
        "def wordCountToCSV(csvName, list_of_words, startOfDec, model):\n",
        "  \n",
        "  with open(csvName, 'a') as file:\n",
        "    writer = csv.writer(file)\n",
        "\n",
        "    freqs = load_pickle(\"/content/drive/My Drive/word2vecProject/histwords/embeddings/New_models/{}/counts/{}-counts.pkl\".format(model,startOfDec))\n",
        "    \n",
        "    listOfCounts = []\n",
        "    listOfCounts.append(startOfDec)\n",
        "\n",
        "    for word in list_of_words:\n",
        "      listOfCounts.append(freqs[word])\n",
        "\n",
        "    writer.writerow(listOfCounts)\n"
      ],
      "execution_count": 0,
      "outputs": []
    },
    {
      "cell_type": "code",
      "metadata": {
        "id": "MT5VzGKpCUNK",
        "colab_type": "code",
        "colab": {}
      },
      "source": [
        "list_of_models = ['eng-all']"
      ],
      "execution_count": 0,
      "outputs": []
    },
    {
      "cell_type": "code",
      "metadata": {
        "id": "67saa0SmHUTH",
        "colab_type": "code",
        "colab": {}
      },
      "source": [
        "entities = ['husband', 'wife', 'father', 'mother', 'son', 'daughter', 'brother', 'sister', 'uncle', 'aunt', 'niece', 'nephew', 'grandmother', 'grandfather', 'acquaintance', 'ally', 'associate', 'colleague', 'confidant', 'companion', 'counterpart', 'fellow', 'follower', 'member', 'neighbor', 'partner', 'patriot', 'supporter', \n",
        "'arab', 'beggar', 'blacks', 'chinese', 'crippled', 'disabled', 'elderly', 'indian', 'jew', 'mexican', 'native', 'pauper', 'unemployed', 'woman', 'adversary', 'competitor', 'emigrant', 'foreigner', 'intruder', 'invader', 'occupier', 'opponent', 'opposition', 'rival', 'settler', 'stranger', 'visitor', 'vagrant', \n",
        "'convict', 'criminal', 'crook', 'delinquent', 'deserter', 'enemy', 'felon', 'murderer', 'offender', 'robber', 'scoundrel', 'thief', 'traitor', 'villain', 'animal', 'ape', 'bear', 'bird', 'chicken', 'cow', 'dog', 'elephant', 'fish', 'lion', 'monkey', 'pig', 'shark', 'snake', 'beach', 'coast', 'earth', 'forest', 'island', 'lake', 'mountain', 'nature', 'ocean', 'planet', 'reef', 'river', 'sea', 'tree']"
      ],
      "execution_count": 0,
      "outputs": []
    },
    {
      "cell_type": "code",
      "metadata": {
        "id": "y0688bp_kxje",
        "colab_type": "code",
        "colab": {}
      },
      "source": [
        "moral_standing = ['aid', 'aiding', 'aided', 'help', 'helps', 'helping', 'helped', 'care', 'cares', 'cared', 'caring']\n"
      ],
      "execution_count": 0,
      "outputs": []
    },
    {
      "cell_type": "code",
      "metadata": {
        "id": "_zz3VscHCIkv",
        "colab_type": "code",
        "colab": {}
      },
      "source": [
        "# Entities word counts\n",
        "\n",
        "for model in list_of_models:\n",
        "\n",
        "  with open('word_count_entities_{}.csv'.format(model), 'wt') as file:\n",
        "    writer = csv.writer(file)\n",
        "    entities.insert(0, \" \")\n",
        "    # Write the headings to the csv.\n",
        "    writer.writerow(entities)\n",
        "    entities.pop(0)\n",
        "\n",
        "  for i in range(1800,2000,10):\n",
        "    wordCountToCSV('word_count_entities_{}.csv'.format(model), entities, i, model)\n"
      ],
      "execution_count": 0,
      "outputs": []
    },
    {
      "cell_type": "code",
      "metadata": {
        "id": "PsIdxqBvlMcH",
        "colab_type": "code",
        "colab": {}
      },
      "source": [
        "# moral_standing word counts\n",
        "\n",
        "for model in list_of_models:\n",
        "\n",
        "  with open('word_count_moral_standing_{}.csv'.format(model), 'wt') as file:\n",
        "    writer = csv.writer(file)\n",
        "    moral_standing.insert(0, \" \")\n",
        "    # Write the headings to the csv.\n",
        "    writer.writerow(moral_standing)\n",
        "    moral_standing.pop(0)\n",
        "\n",
        "  for i in range(1800,2000,10):\n",
        "    wordCountToCSV('word_count_moral_standing_{}.csv'.format(model), moral_standing, i, model)"
      ],
      "execution_count": 0,
      "outputs": []
    }
  ]
}
