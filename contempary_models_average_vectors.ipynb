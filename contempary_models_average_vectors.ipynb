{
  "nbformat": 4,
  "nbformat_minor": 0,
  "metadata": {
    "colab": {
      "name": "contempary_models_average_vectors.ipynb",
      "provenance": [],
      "authorship_tag": "ABX9TyN/kgfeyyRaHxg+spEgGeqj",
      "include_colab_link": true
    },
    "kernelspec": {
      "name": "python3",
      "display_name": "Python 3"
    },
    "accelerator": "GPU"
  },
  "cells": [
    {
      "cell_type": "markdown",
      "metadata": {
        "id": "view-in-github",
        "colab_type": "text"
      },
      "source": [
        "<a href=\"https://colab.research.google.com/github/andrewpkitchin/Word-Embeddings/blob/master/contempary_models_average_vectors.ipynb\" target=\"_parent\"><img src=\"https://colab.research.google.com/assets/colab-badge.svg\" alt=\"Open In Colab\"/></a>"
      ]
    },
    {
      "cell_type": "markdown",
      "metadata": {
        "id": "p1lZwGGeuGRM",
        "colab_type": "text"
      },
      "source": [
        "In this notebook we will demonstrate how to use the contempary word embedding models supported by the Gensim library to generate the results used in [link to paper]. We will calculate the cosine between each enitity and a group/average vector of the moarl standing words.\n",
        "\n",
        "We suggest mounting a google drive to output results as csv files of cosines for each model.\n",
        "\n",
        "See https://github.com/RaRe-Technologies/gensim-data for a list of models and documentation."
      ]
    },
    {
      "cell_type": "code",
      "metadata": {
        "id": "bL7MV22Ht3Wk",
        "colab_type": "code",
        "colab": {}
      },
      "source": [
        "# Dependancies\n",
        "\n",
        "from google.colab import drive\n",
        "import csv\n",
        "import numpy as np\n",
        "import gensim.downloader as api\n"
      ],
      "execution_count": 0,
      "outputs": []
    },
    {
      "cell_type": "markdown",
      "metadata": {
        "id": "GRUnXwTX1XG-",
        "colab_type": "text"
      },
      "source": [
        "We first mount our google drive and navigate to our desired folder."
      ]
    },
    {
      "cell_type": "code",
      "metadata": {
        "id": "yk4vc1lZv1ek",
        "colab_type": "code",
        "colab": {}
      },
      "source": [
        "drive.mount('/content/drive')\n",
        "\n",
        "%cd drive/My\\ Drive/word2vecProject/csvFiles"
      ],
      "execution_count": 0,
      "outputs": []
    },
    {
      "cell_type": "code",
      "metadata": {
        "id": "fO7x7QZH1MGY",
        "colab_type": "code",
        "colab": {}
      },
      "source": [
        "list_of_models = ['fasttext-wiki-news-subwords-300']\n",
        "\n",
        "#Google News Model\n",
        "  #'word2vec-google-news-300'\n",
        "#Twitter Models\n",
        "  #'glove-twitter-100', 'glove-twitter-200', 'glove-twitter-25', 'glove-twitter-50', \n",
        "#Wikipedia Models\n",
        "  #'glove-wiki-gigaword-100', 'glove-wiki-gigaword-200', 'glove-wiki-gigaword-300', 'glove-wiki-gigaword-50',\n",
        "  #'fasttext-wiki-news-subwords-300'"
      ],
      "execution_count": 0,
      "outputs": []
    },
    {
      "cell_type": "markdown",
      "metadata": {
        "id": "qX1ivGzt2WNd",
        "colab_type": "text"
      },
      "source": [
        "Here we create a function which returns the normalized vector representation of a word from a model. Note: word_vector will be defined as follows:\n",
        "\n",
        "> word_vector = api.load(model_name)\n",
        "\n",
        "we will define this when we load and run the models.\n",
        "\n",
        "We also create a function to compute the cosine of two vectors as well as a function to compute the average vector of a list of words."
      ]
    },
    {
      "cell_type": "code",
      "metadata": {
        "id": "LNqEAq_C0oAw",
        "colab_type": "code",
        "colab": {}
      },
      "source": [
        "def norm(word):\n",
        "  return word_vector[word]/np.linalg.norm(word_vector[word])\n",
        " \n",
        "\n",
        "def cosine_similarity(vec1,vec2):\n",
        "  return np.dot(vec1, vec2)/(np.linalg.norm(vec1)* np.linalg.norm(vec2))\n",
        "\n",
        "\n",
        "def average_vector(list_of_words, average_vec):\n",
        "  for word in list_of_words:\n",
        "    try:\n",
        "      average_vec += norm(word)\n",
        "    except KeyError:\n",
        "      continue\n",
        "  \n",
        "  return average_vec/(len(list_of_words)+1)"
      ],
      "execution_count": 0,
      "outputs": []
    },
    {
      "cell_type": "markdown",
      "metadata": {
        "id": "oWPJZkkmWV_a",
        "colab_type": "text"
      },
      "source": [
        "Here we define a function computing the average vector of a list of words."
      ]
    },
    {
      "cell_type": "code",
      "metadata": {
        "id": "W7WTcc_n-4bh",
        "colab_type": "code",
        "colab": {}
      },
      "source": [
        "def average_vector_cosines_to_csv(csv_name,average_vec,list_of_words, model_name):\n",
        "  with open(csv_name, 'a', newline='') as file:\n",
        "    writer = csv.writer(file)\n",
        "\n",
        "    list_of_cosines = []\n",
        "    list_of_cosines.insert(0,model_name)\n",
        "\n",
        "    for word in list_of_words:\n",
        "      try:\n",
        "        list_of_cosines.append(cosine_similarity(average_vec,norm(word)))\n",
        "      except KeyError:\n",
        "        list_of_cosines.append('NA')\n",
        "      \n",
        "    # Writing the cosine scores to the csv.\n",
        "    writer.writerow(list_of_cosines)"
      ],
      "execution_count": 0,
      "outputs": []
    },
    {
      "cell_type": "markdown",
      "metadata": {
        "id": "oS9VPaVpNMX_",
        "colab_type": "text"
      },
      "source": [
        "Lists of words"
      ]
    },
    {
      "cell_type": "code",
      "metadata": {
        "id": "THkaQpjelLcJ",
        "colab_type": "code",
        "colab": {}
      },
      "source": [
        "moral_standing = ['aid', 'aiding', 'aided', 'help', 'helps', 'helping', 'helped', 'care', 'cares', 'cared', 'caring']"
      ],
      "execution_count": 0,
      "outputs": []
    },
    {
      "cell_type": "code",
      "metadata": {
        "id": "8sJ7iWRKlbSa",
        "colab_type": "code",
        "colab": {}
      },
      "source": [
        "entities = ['husband', 'wife', 'father', 'mother', 'son', 'daughter', 'brother', 'sister', 'uncle', 'aunt', 'niece', 'nephew', 'grandmother', 'grandfather', 'acquaintance', 'ally', 'associate', 'colleague', 'confidant', 'companion', 'counterpart', 'fellow', 'follower', 'member', 'neighbor', 'partner', 'patriot', 'supporter', \n",
        "'arab', 'beggar', 'blacks', 'chinese', 'crippled', 'disabled', 'elderly', 'indian', 'jew', 'mexican', 'native', 'pauper', 'unemployed', 'woman', 'adversary', 'competitor', 'emigrant', 'foreigner', 'intruder', 'invader', 'occupier', 'opponent', 'opposition', 'rival', 'settler', 'stranger', 'visitor', 'vagrant', \n",
        "'convict', 'criminal', 'crook', 'delinquent', 'deserter', 'enemy', 'felon', 'murderer', 'offender', 'robber', 'scoundrel', 'thief', 'traitor', 'villain', 'animal', 'ape', 'bear', 'bird', 'chicken', 'cow', 'dog', 'elephant', 'fish', 'lion', 'monkey', 'pig', 'shark', 'snake', 'beach', 'coast', 'earth', 'forest', 'island', 'lake', 'mountain', 'nature', 'ocean', 'planet', 'reef', 'river', 'sea', 'tree']"
      ],
      "execution_count": 0,
      "outputs": []
    },
    {
      "cell_type": "markdown",
      "metadata": {
        "id": "EMkZ8oTFM2ja",
        "colab_type": "text"
      },
      "source": [
        "Computing the cosine similarity between each entity and the average vector of the moral standings words. "
      ]
    },
    {
      "cell_type": "code",
      "metadata": {
        "id": "MUwKeJ_B2WD0",
        "colab_type": "code",
        "colab": {}
      },
      "source": [
        "with open('cosines_enitities_and_moral_standings_average_vec_contempary.csv', 'w', newline='') as file:\n",
        "    writer = csv.writer(file)\n",
        "    \n",
        "    entities.insert(0,\" \")\n",
        "    writer.writerow(entities)\n",
        "    entities.pop(0)\n",
        "\n",
        "\n",
        "for i in list_of_models:\n",
        "  word_vector = api.load(i)\n",
        "  \n",
        "  j = word_vector['word'].shape[0]\n",
        "  \n",
        "  average_vec = np.zeros([j, ])\n",
        "\n",
        "  moral_standings_aver_vec = average_vector(moral_standing_positive, average_vec)\n",
        "\n",
        "  average_vector_cosines_to_csv('cosines_enitities_and_moral_standings_average_vec_contempary.csv', moral_standings_aver_vec, entities, i)"
      ],
      "execution_count": 0,
      "outputs": []
    }
  ]
}