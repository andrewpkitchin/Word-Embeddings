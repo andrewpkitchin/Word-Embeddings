{
  "nbformat": 4,
  "nbformat_minor": 0,
  "metadata": {
    "colab": {
      "name": "historic_models_average_vectors.ipynb",
      "provenance": [],
      "authorship_tag": "ABX9TyOWartVYnIN57/PVnBLDBj2",
      "include_colab_link": true
    },
    "kernelspec": {
      "name": "python2",
      "display_name": "Python 2"
    }
  },
  "cells": [
    {
      "cell_type": "markdown",
      "metadata": {
        "id": "view-in-github",
        "colab_type": "text"
      },
      "source": [
        "<a href=\"https://colab.research.google.com/github/andrewpkitchin/moral-circle-word-embeddings/blob/master/historic_models_average_vectors.ipynb\" target=\"_parent\"><img src=\"https://colab.research.google.com/assets/colab-badge.svg\" alt=\"Open In Colab\"/></a>"
      ]
    },
    {
      "cell_type": "markdown",
      "metadata": {
        "id": "7G6pw7cWj-hy",
        "colab_type": "text"
      },
      "source": [
        "In this Python 2 notebook we will demonstrate how to use the historic word embedding models supported by the Histwords library to generate the results used in [link to paper]. We will calculate the cosine between each focal enitity and the average vector of the moarl words.\n",
        "We suggest mounting a google drive to output results as csv files of cosines for each model.\n",
        "To use this notebook you will need to clone the Histwords github repository found here: https://github.com/williamleif/histwords as well as download the \n",
        "All English (1800s-1990s) pretrained models found here: https://nlp.stanford.edu/projects/histwords/.  "
      ]
    },
    {
      "cell_type": "code",
      "metadata": {
        "id": "bBwcM_CpsqFf",
        "colab_type": "code",
        "colab": {}
      },
      "source": [
        "# Dependancies\n",
        "\n",
        "from google.colab import drive\n",
        "import numpy as np, csv"
      ],
      "execution_count": null,
      "outputs": []
    },
    {
      "cell_type": "code",
      "metadata": {
        "id": "IWhPSon1tC2D",
        "colab_type": "code",
        "colab": {
          "base_uri": "https://localhost:8080/",
          "height": 139
        },
        "outputId": "dcc755b0-6e48-4e2a-8bd6-8a0cee24a5b6"
      },
      "source": [
        "drive.mount('/content/drive')\n",
        "\n",
        "%cd drive/My\\ Drive/word2vecProject/histwords"
      ],
      "execution_count": null,
      "outputs": [
        {
          "output_type": "stream",
          "text": [
            "Go to this URL in a browser: https://accounts.google.com/o/oauth2/auth?client_id=947318989803-6bn6qk8qdgf4n4g3pfee6491hc0brc4i.apps.googleusercontent.com&redirect_uri=urn%3aietf%3awg%3aoauth%3a2.0%3aoob&response_type=code&scope=email%20https%3a%2f%2fwww.googleapis.com%2fauth%2fdocs.test%20https%3a%2f%2fwww.googleapis.com%2fauth%2fdrive%20https%3a%2f%2fwww.googleapis.com%2fauth%2fdrive.photos.readonly%20https%3a%2f%2fwww.googleapis.com%2fauth%2fpeopleapi.readonly\n",
            "\n",
            "Enter your authorization code:\n",
            "··········\n",
            "Mounted at /content/drive\n",
            "/content/drive/My Drive/word2vecProject/histwords\n"
          ],
          "name": "stdout"
        }
      ]
    },
    {
      "cell_type": "markdown",
      "metadata": {
        "id": "B3Y5JN3kkpA-",
        "colab_type": "text"
      },
      "source": [
        "Here we create a function which returns the normalized vector representation of a word from a model. We also create a function to compute the cosine of two vectors as well as a function to compute the average vector of a list of words."
      ]
    },
    {
      "cell_type": "code",
      "metadata": {
        "id": "lEzl8TLmtdPK",
        "colab_type": "code",
        "colab": {}
      },
      "source": [
        "def norm(word, start_of_dec, model_name):\n",
        "  from representations.embedding import Embedding\n",
        "  if __name__ == \"__main__\":\n",
        "    fiction_embeddings = Embedding.load(\"/content/drive/My Drive/word2vecProject/histwords/embeddings/{}/{}\".format(model_name, start_of_dec))\n",
        "\n",
        "  return Embedding.represent(fiction_embeddings,word)/np.linalg.norm(Embedding.represent(fiction_embeddings,word))\n",
        "\n",
        "\n",
        "def cosine_similarity(vec1,vec2):\n",
        "  return np.dot(vec1, vec2)/(np.linalg.norm(vec1)* np.linalg.norm(vec2))\n",
        "\n",
        "\n",
        "def average_vector(list_of_words, start_of_dec, vec_of_zeros, removed_words, model_name):\n",
        "\n",
        "  removed_words.append(start_of_dec)\n",
        "\n",
        "  for word in list_of_words:\n",
        "    if str(norm(word,start_of_dec, model)[0]) == 'nan':\n",
        "      removed_words.append(word)\n",
        "    else:\n",
        "      vec_of_zeros += np.array(norm(word,start_of_dec, model_name))\n",
        "  \n",
        "  vec_of_zeros = vec_of_zeros/(len(list_of_words)+1)\n"
      ],
      "execution_count": null,
      "outputs": []
    },
    {
      "cell_type": "markdown",
      "metadata": {
        "id": "AW4iJd_Kdoo3",
        "colab_type": "text"
      },
      "source": [
        "Here we define a function for computing the cosine similarity between words in a list and the average vector of a list of words."
      ]
    },
    {
      "cell_type": "code",
      "metadata": {
        "id": "R51BR_eHNfUg",
        "colab_type": "code",
        "colab": {}
      },
      "source": [
        "def average_vector_cosines_to_csv(csv_name, list_of_words, average_vec, start_of_dec, model):  \n",
        "\n",
        "  with open(csv_name, 'a') as file:\n",
        "    writer = csv.writer(file)\n",
        "\n",
        "    list_of_cosines = []\n",
        "    list_of_cosines.append(start_of_dec)\n",
        "    \n",
        "    for entity in list_of_words:\n",
        "      cosine = cosine_similarity(average_vec,norm(entity, start_of_dec, model))\n",
        "      if round(cosine,4) == 1.0:\n",
        "        list_of_cosines.append('NA')\n",
        "      elif np.isnan(cosine) == True:\n",
        "        list_of_cosines.append('NA')\n",
        "      else:\n",
        "        list_of_cosines.append(cosine)\n",
        "\n",
        "    # Writing the cosine scores to the csv.\n",
        "    writer.writerow(list_of_cosines)"
      ],
      "execution_count": null,
      "outputs": []
    },
    {
      "cell_type": "markdown",
      "metadata": {
        "id": "i7y48fbrcp6l",
        "colab_type": "text"
      },
      "source": [
        "Lists of words"
      ]
    },
    {
      "cell_type": "code",
      "metadata": {
        "id": "dUq1oP1eB27j",
        "colab_type": "code",
        "colab": {}
      },
      "source": [
        "moral_list = ['compassion', 'compassionate', 'care', 'cares', 'cared', 'caring', 'help', 'helps', 'helped', 'helping', 'responsibility', 'responsibilities', 'duty', 'duties', 'concern', 'concerns', 'concerned', 'concerning', 'welfare', 'rights', 'support', 'supports', 'supporting', 'supported', 'assist', 'assists', 'assisting', 'assisted']\n"
      ],
      "execution_count": null,
      "outputs": []
    },
    {
      "cell_type": "code",
      "metadata": {
        "id": "zG6exw6X-prB",
        "colab_type": "code",
        "colab": {}
      },
      "source": [
        "positivity_list = ['vacation', 'happiness', 'happy', 'christmas', 'enjoyment', 'fun', 'fantastic', 'free', 'magical', 'delight', 'joy', 'joyful', 'relaxing', 'honest', 'sunshine', 'excited', 'accomplishment', 'comedy', 'courageous', 'laughter', 'lover', 'cheerful', 'entertaining', 'love', 'peaceful', 'prize', 'relaxation', 'exciting']\n"
      ],
      "execution_count": null,
      "outputs": []
    },
    {
      "cell_type": "code",
      "metadata": {
        "id": "UVsxux5uP1ii",
        "colab_type": "code",
        "colab": {}
      },
      "source": [
        "focal_entities_list = ['husband', 'wife', 'father', 'mother', 'son', 'daughter', 'brother', 'sister', 'uncle', 'aunt', 'niece', 'nephew', 'grandmother', 'grandfather', 'acquaintance', 'ally', 'associate', 'colleague', 'confidant', 'companion', 'counterpart', 'fellow', 'follower', 'member', 'neighbour', 'partner', 'patriot', 'supporter', 'arab', 'beggar', 'blacks', 'chinese', 'crippled', 'disabled', 'elderly', 'indian', 'jew', 'mexican', 'native', 'pauper', 'unemployed', 'woman', 'adversary', 'competitor', 'emigrant', 'foreigner', 'intruder', 'invader', 'occupier', 'opponent', 'opposition', 'rival', 'settler', 'stranger', 'visitor', 'vagrant', 'convict', 'criminal', 'crook', 'delinquent', 'deserter', 'enemy', 'felon', 'murderer', 'offender', 'robber', 'scoundrel', 'thief', 'traitor', 'villain', 'animal', 'ape', 'bear', 'bird', 'chicken', 'cow', 'dog', 'elephant', 'fish', 'lion', 'monkey', 'pig', 'shark', 'snake', 'beach', 'coast', 'earth', 'forest', 'island', 'lake', 'mountain', 'nature', 'ocean', 'planet', 'reef', 'river', 'sea', 'tree']"
      ],
      "execution_count": null,
      "outputs": []
    },
    {
      "cell_type": "code",
      "metadata": {
        "id": "Cpaejd6nPZxB",
        "colab_type": "code",
        "colab": {}
      },
      "source": [
        "control_entites_list = ['canon', 'bale', 'essay', 'crest', 'hide', 'razor', 'plot', 'iodine', 'timber', 'sole', 'gap', 'pulp', 'log', 'coil', 'cork', 'barrel', 'valve', 'strap', 'rail', 'closet', 'cabinet', 'bundle', 'postage', 'landing', 'font', 'tool', 'street', 'wall', 'mud', 'slice', 'section', 'rope', 'post', 'monitor', 'metal', 'limestone', 'granite', 'fluid', 'fiddle', 'fence', 'dash', 'chess', 'buckle', 'brass', 'bedding', 'bag', 'anvil', 'scissors', 'iron', 'trunk', 'vent', 'tongs', 'strand', 'staple', 'spur', 'ruler', 'pulley', 'platform', 'orb', 'net', 'mat', 'machine', 'hose', 'horn', 'embankment', 'digestive', 'credit', 'column', 'cap', 'bar', 'wheat', 'steps', 'steel', 'saddle', 'rod', 'organ', 'flank', 'factory', 'collar', 'barley', 'attic', 'piping', 'chimney', 'den', 'furnace', 'patch', 'peroxide', 'reins', 'rudder', 'sack', 'sediment', 'square', 'turnpike', 'floor', 'hedge', 'laboratory'\n",
        "]"
      ],
      "execution_count": null,
      "outputs": []
    },
    {
      "cell_type": "markdown",
      "metadata": {
        "id": "kLoRFHxXdJfV",
        "colab_type": "text"
      },
      "source": [
        "Models"
      ]
    },
    {
      "cell_type": "code",
      "metadata": {
        "id": "HUTU8aarC4Gv",
        "colab_type": "code",
        "colab": {}
      },
      "source": [
        "list_of_models = ['eng-all_sgns']"
      ],
      "execution_count": null,
      "outputs": []
    },
    {
      "cell_type": "markdown",
      "metadata": {
        "id": "OI_TR8g3OrZm",
        "colab_type": "text"
      },
      "source": [
        "Cosine between the focal entities and average vector of moral words, in histwords models from 1830 - 2000. This uses moral_list and focal_entities_list. \n"
      ]
    },
    {
      "cell_type": "code",
      "metadata": {
        "id": "YMp-ejPCNx0S",
        "colab_type": "code",
        "colab": {
          "base_uri": "https://localhost:8080/",
          "height": 34
        },
        "outputId": "828e9af8-9c4e-4e20-a2db-f7301df0fdbe"
      },
      "source": [
        "for model in list_of_models:\n",
        "  with open('cosines_moral_and_focal_entities_historic_{}.csv'.format(model), 'w') as file:\n",
        "    writer = csv.writer(file)\n",
        "    \n",
        "    focal_entities_list.insert(0,model)\n",
        "    writer.writerow(focal_entities_list)\n",
        "    focal_entities_list.pop(0)\n",
        "\n",
        "  list_of_removed_words = []\n",
        "\n",
        "  list_of_removed_words.append(model)\n",
        "\n",
        "  for i in range(1830,2000,10):\n",
        "    averageVec = np.zeros([300, ])\n",
        "    \n",
        "    average_vector(moral_list, i, averageVec, list_of_removed_words, model)\n",
        "\n",
        "    average_vector_cosines_to_csv('cosines_moral_and_focal_entities_historic_{}.csv'.format(model), focal_entities_list, averageVec, i, model)\n",
        "  \n",
        "  print(list_of_removed_words)"
      ],
      "execution_count": null,
      "outputs": [
        {
          "output_type": "stream",
          "text": [
            "['eng-all_sgns', 1830, 1840, 1850, 1860, 1870, 1880, 1890, 1900, 1910, 1920, 1930, 1940, 1950, 1960, 1970, 1980, 1990]\n"
          ],
          "name": "stdout"
        }
      ]
    }
  ]
}