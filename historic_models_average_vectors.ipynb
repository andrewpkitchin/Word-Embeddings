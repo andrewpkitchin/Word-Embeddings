{
  "nbformat": 4,
  "nbformat_minor": 0,
  "metadata": {
    "colab": {
      "name": "historic_models_average_vectors.ipynb",
      "provenance": [],
      "authorship_tag": "ABX9TyMQetuw0VTk0yEP1b77/ssw",
      "include_colab_link": true
    },
    "kernelspec": {
      "name": "python2",
      "display_name": "Python 2"
    },
    "accelerator": "GPU"
  },
  "cells": [
    {
      "cell_type": "markdown",
      "metadata": {
        "id": "view-in-github",
        "colab_type": "text"
      },
      "source": [
        "<a href=\"https://colab.research.google.com/github/andrewpkitchin/word-embeddings-reveal-widening-circles-of-moral-concern-across-the-19th-and-20th-centuries/blob/master/historic_models_average_vectors.ipynb\" target=\"_parent\"><img src=\"https://colab.research.google.com/assets/colab-badge.svg\" alt=\"Open In Colab\"/></a>"
      ]
    },
    {
      "cell_type": "markdown",
      "metadata": {
        "id": "7G6pw7cWj-hy",
        "colab_type": "text"
      },
      "source": [
        "In this notebook we will demonstrate how to use the historic word embedding models supported by the Histwords library to generate the results used in [link to paper]. We will calculate the cosine between each enitity and a group/average vector of the moarl standing words.\n",
        "We suggest mounting a google drive to output results as csv files of cosines for each model.\n",
        "To use this notebook you will need to clone the Histwords github repository found here: https://github.com/williamleif/histwords as well as download the \n",
        "All English (1800s-1990s) pretrained models found here: https://nlp.stanford.edu/projects/histwords/.  "
      ]
    },
    {
      "cell_type": "code",
      "metadata": {
        "id": "bBwcM_CpsqFf",
        "colab_type": "code",
        "colab": {}
      },
      "source": [
        "# Dependancies\n",
        "\n",
        "import csv\n",
        "from google.colab import drive\n",
        "import numpy as np"
      ],
      "execution_count": 0,
      "outputs": []
    },
    {
      "cell_type": "code",
      "metadata": {
        "id": "IWhPSon1tC2D",
        "colab_type": "code",
        "colab": {}
      },
      "source": [
        "drive.mount('/content/drive')\n",
        "\n",
        "%cd drive/My\\ Drive/word2vecProject/histwords"
      ],
      "execution_count": 0,
      "outputs": []
    },
    {
      "cell_type": "markdown",
      "metadata": {
        "id": "B3Y5JN3kkpA-",
        "colab_type": "text"
      },
      "source": [
        "Here we create a function which returns the normalized vector representation of a word from a model. \n",
        "\n",
        "we will define this when we load and run the models.\n",
        "\n",
        "We also create a function to compute the cosine of two vectors as well as a function to compute the average vector of a list of words."
      ]
    },
    {
      "cell_type": "code",
      "metadata": {
        "id": "lEzl8TLmtdPK",
        "colab_type": "code",
        "colab": {}
      },
      "source": [
        "# Normalizing vectors.\n",
        "\n",
        "def norm(word, start_of_dec, model_name):\n",
        "  from representations.embedding import Embedding\n",
        "  if __name__ == \"__main__\":\n",
        "    fiction_embeddings = Embedding.load(\"/content/drive/My Drive/word2vecProject/histwords/embeddings/{}/{}\".format(model_name, start_of_dec))\n",
        "\n",
        "  return Embedding.represent(fiction_embeddings,word)/np.linalg.norm(Embedding.represent(fiction_embeddings,word))\n",
        "\n",
        "\n",
        "def cosine_similarity(vec1,vec2):\n",
        "  return np.dot(vec1, vec2)/(np.linalg.norm(vec1)* np.linalg.norm(vec2))\n",
        "\n",
        "\n",
        "def averageVector(list_of_words, start_of_dec, averageVec, removed_words, model_name):\n",
        "\n",
        "  removed_words.append(start_of_dec)\n",
        "\n",
        "  for word in list_of_words:\n",
        "    if str(norm(word,start_of_dec, model)[0]) == 'nan':\n",
        "      removed_words.append(word)\n",
        "    else:\n",
        "      averageVec += np.array(norm(word,start_of_dec, model_name))\n",
        "  \n",
        "  averageVec = averageVec/(len(list_of_words)+1)\n"
      ],
      "execution_count": 0,
      "outputs": []
    },
    {
      "cell_type": "markdown",
      "metadata": {
        "id": "AW4iJd_Kdoo3",
        "colab_type": "text"
      },
      "source": [
        "Here we define a function computing the average vector of a list of words."
      ]
    },
    {
      "cell_type": "code",
      "metadata": {
        "id": "R51BR_eHNfUg",
        "colab_type": "code",
        "colab": {}
      },
      "source": [
        "def cosinesToCsvAver(csvName, listOfWords, AverageVec, startOfDec, model):\n",
        "\n",
        "  with open(csvName, 'a') as file:\n",
        "    writer = csv.writer(file)\n",
        "\n",
        "    listOfCosines = []\n",
        "    listOfCosines.append(startOfDec)\n",
        "    \n",
        "    for entity in listOfWords:\n",
        "      cosine = cosine_similarity(averageVec,norm(entity, startOfDec, model))\n",
        "      if round(cosine,4) == 0.0:\n",
        "        listOfCosines.append('NA')\n",
        "      elif round(cosine,4) == 1.0:\n",
        "        listOfCosines.append('NA')\n",
        "      elif np.isnan(cosine) == True:\n",
        "        listOfCosines.append('NA')\n",
        "      else:\n",
        "        listOfCosines.append(cosine)\n",
        "\n",
        "    # Writing the cosine scores to the csv.\n",
        "    writer.writerow(listOfCosines)"
      ],
      "execution_count": 0,
      "outputs": []
    },
    {
      "cell_type": "markdown",
      "metadata": {
        "id": "i7y48fbrcp6l",
        "colab_type": "text"
      },
      "source": [
        "Lists of words"
      ]
    },
    {
      "cell_type": "code",
      "metadata": {
        "id": "dUq1oP1eB27j",
        "colab_type": "code",
        "colab": {}
      },
      "source": [
        "moral_standing = ['aid', 'aiding', 'aided', 'help', 'helps', 'helping', 'helped', 'care', 'cares', 'cared', 'caring']\n"
      ],
      "execution_count": 0,
      "outputs": []
    },
    {
      "cell_type": "code",
      "metadata": {
        "id": "hYjmHvs2vgWF",
        "colab_type": "code",
        "colab": {}
      },
      "source": [
        "entities = ['husband', 'wife', 'father', 'mother', 'son', 'daughter', 'brother', 'sister', 'uncle', 'aunt', 'niece', 'nephew', 'grandmother', 'grandfather', 'acquaintance', 'ally', 'associate', 'colleague', 'confidant', 'companion', 'counterpart', 'fellow', 'follower', 'member', 'neighbor', 'partner', 'patriot', 'supporter', \n",
        "'arab', 'beggar', 'blacks', 'chinese', 'crippled', 'disabled', 'elderly', 'indian', 'jew', 'mexican', 'native', 'pauper', 'unemployed', 'woman', 'adversary', 'competitor', 'emigrant', 'foreigner', 'intruder', 'invader', 'occupier', 'opponent', 'opposition', 'rival', 'settler', 'stranger', 'visitor', 'vagrant', \n",
        "'convict', 'criminal', 'crook', 'delinquent', 'deserter', 'enemy', 'felon', 'murderer', 'offender', 'robber', 'scoundrel', 'thief', 'traitor', 'villain', 'animal', 'ape', 'bear', 'bird', 'chicken', 'cow', 'dog', 'elephant', 'fish', 'lion', 'monkey', 'pig', 'shark', 'snake', 'beach', 'coast', 'earth', 'forest', 'island', 'lake', 'mountain', 'nature', 'ocean', 'planet', 'reef', 'river', 'sea', 'tree']"
      ],
      "execution_count": 0,
      "outputs": []
    },
    {
      "cell_type": "markdown",
      "metadata": {
        "id": "kLoRFHxXdJfV",
        "colab_type": "text"
      },
      "source": [
        "Models"
      ]
    },
    {
      "cell_type": "code",
      "metadata": {
        "id": "HUTU8aarC4Gv",
        "colab_type": "code",
        "colab": {}
      },
      "source": [
        "list_of_models = ['eng-all_sgns']"
      ],
      "execution_count": 0,
      "outputs": []
    },
    {
      "cell_type": "markdown",
      "metadata": {
        "id": "ALB-7JJlh90r",
        "colab_type": "text"
      },
      "source": [
        "Average vector approach"
      ]
    },
    {
      "cell_type": "code",
      "metadata": {
        "id": "YMp-ejPCNx0S",
        "colab_type": "code",
        "colab": {}
      },
      "source": [
        "for model in list_of_models:\n",
        "  with open('cosines_enitities_and_moral_standings_average_vec_historic_{}.csv'.format(model), 'w') as file:\n",
        "    writer = csv.writer(file)\n",
        "    \n",
        "    entities.insert(0,model)\n",
        "    writer.writerow(entities)\n",
        "    entities.pop(0)\n",
        "\n",
        "  listOfRemovedWords = []\n",
        "\n",
        "  listOfRemovedWords.append(model)\n",
        "\n",
        "\n",
        "  for i in range(1800,2000,10):\n",
        "    averageVec = np.zeros([300, ])\n",
        "    \n",
        "    averageVector(moral_standing, i, averageVec, listOfRemovedWords, model)\n",
        "\n",
        "    cosinesToCsvAver('cosines_enitities_and_moral_standings_average_vec_historic_{}.csv'.format(model), entities, averageVec, i, model)\n",
        "  \n",
        "  print(listOfRemovedWords)"
      ],
      "execution_count": 0,
      "outputs": []
    }
  ]
}