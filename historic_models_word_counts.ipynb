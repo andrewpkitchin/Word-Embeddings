{
  "nbformat": 4,
  "nbformat_minor": 0,
  "metadata": {
    "colab": {
      "name": "historic_models_word_counts.ipynb",
      "provenance": [],
      "authorship_tag": "ABX9TyO3qbXPSPiTqGAynMRsPD04",
      "include_colab_link": true
    },
    "kernelspec": {
      "name": "python2",
      "display_name": "Python 2"
    },
    "accelerator": "GPU"
  },
  "cells": [
    {
      "cell_type": "markdown",
      "metadata": {
        "id": "view-in-github",
        "colab_type": "text"
      },
      "source": [
        "<a href=\"https://colab.research.google.com/github/andrewpkitchin/moral-circle-word-embeddings/blob/master/historic_models_word_counts.ipynb\" target=\"_parent\"><img src=\"https://colab.research.google.com/assets/colab-badge.svg\" alt=\"Open In Colab\"/></a>"
      ]
    },
    {
      "cell_type": "markdown",
      "metadata": {
        "id": "Wy9pJ2H9cWoP",
        "colab_type": "text"
      },
      "source": [
        "In this notebook we will demonstrate how to use the historic word embedding models supported by the Histwords library to generate the results used in [link to paper]. We will extract the word counts for each word including in our results.\n",
        "We suggest mounting a google drive to output results as csv files of cosines for each model.\n",
        "To use this notebook you will need to clone the Histwords github repository found here: https://github.com/williamleif/histwords as well as download the \n",
        "All English (1800s-1990s) pretrained models found here: https://nlp.stanford.edu/projects/histwords/.  "
      ]
    },
    {
      "cell_type": "code",
      "metadata": {
        "id": "Rjate5Vz1PKo",
        "colab_type": "code",
        "colab": {}
      },
      "source": [
        "# Dependancies\n",
        "\n",
        "import csv\n",
        "from google.colab import drive\n",
        "import numpy as np"
      ],
      "execution_count": 2,
      "outputs": []
    },
    {
      "cell_type": "code",
      "metadata": {
        "id": "kEy5lgxHdstf",
        "colab_type": "code",
        "colab": {
          "base_uri": "https://localhost:8080/",
          "height": 139
        },
        "outputId": "bc2e86fb-d9bf-484b-bc8c-cc5985c88a95"
      },
      "source": [
        "drive.mount('/content/drive')\n",
        "\n",
        "%cd drive/My\\ Drive/word2vecProject/histwords"
      ],
      "execution_count": 3,
      "outputs": [
        {
          "output_type": "stream",
          "text": [
            "Go to this URL in a browser: https://accounts.google.com/o/oauth2/auth?client_id=947318989803-6bn6qk8qdgf4n4g3pfee6491hc0brc4i.apps.googleusercontent.com&redirect_uri=urn%3aietf%3awg%3aoauth%3a2.0%3aoob&response_type=code&scope=email%20https%3a%2f%2fwww.googleapis.com%2fauth%2fdocs.test%20https%3a%2f%2fwww.googleapis.com%2fauth%2fdrive%20https%3a%2f%2fwww.googleapis.com%2fauth%2fdrive.photos.readonly%20https%3a%2f%2fwww.googleapis.com%2fauth%2fpeopleapi.readonly\n",
            "\n",
            "Enter your authorization code:\n",
            "··········\n",
            "Mounted at /content/drive\n",
            "/content/drive/My Drive/word2vecProject/histwords\n"
          ],
          "name": "stdout"
        }
      ]
    },
    {
      "cell_type": "code",
      "metadata": {
        "id": "-0LZGNAM16Nh",
        "colab_type": "code",
        "colab": {}
      },
      "source": [
        "from ioutils import load_pickle, write_pickle"
      ],
      "execution_count": 4,
      "outputs": []
    },
    {
      "cell_type": "code",
      "metadata": {
        "id": "iuETwl3P9rbV",
        "colab_type": "code",
        "colab": {}
      },
      "source": [
        "def word_count_to_csv(csv_name, list_of_words, start_of_dec, model):\n",
        "  \n",
        "  with open(csv_name, 'a') as file:\n",
        "    writer = csv.writer(file)\n",
        "\n",
        "    freqs = load_pickle(\"/content/drive/My Drive/word2vecProject/histwords/embeddings/New_models/{}/counts/{}-counts.pkl\".format(model,start_of_dec))\n",
        "    \n",
        "    list_of_counts = []\n",
        "    list_of_counts.append(start_of_dec)\n",
        "\n",
        "    for word in list_of_words:\n",
        "      list_of_counts.append(freqs[word])\n",
        "\n",
        "    writer.writerow(list_of_counts)\n"
      ],
      "execution_count": 5,
      "outputs": []
    },
    {
      "cell_type": "code",
      "metadata": {
        "id": "MT5VzGKpCUNK",
        "colab_type": "code",
        "colab": {}
      },
      "source": [
        "list_of_models = ['eng-all']"
      ],
      "execution_count": 6,
      "outputs": []
    },
    {
      "cell_type": "code",
      "metadata": {
        "id": "67saa0SmHUTH",
        "colab_type": "code",
        "colab": {}
      },
      "source": [
        "focal_entities_list = ['husband', 'wife', 'father', 'mother', 'son', 'daughter', 'brother', 'sister', 'uncle', 'aunt', 'niece', 'nephew', 'grandmother', 'grandfather', 'acquaintance', 'ally', 'associate', 'colleague', 'confidant', 'companion', 'counterpart', 'fellow', 'follower', 'member', 'neighbour', 'partner', 'patriot', 'supporter', 'arab', 'beggar', 'blacks', 'chinese', 'crippled', 'disabled', 'elderly', 'indian', 'jew', 'mexican', 'native', 'pauper', 'unemployed', 'woman', 'adversary', 'competitor', 'emigrant', 'foreigner', 'intruder', 'invader', 'occupier', 'opponent', 'opposition', 'rival', 'settler', 'stranger', 'visitor', 'vagrant', 'convict', 'criminal', 'crook', 'delinquent', 'deserter', 'enemy', 'felon', 'murderer', 'offender', 'robber', 'scoundrel', 'thief', 'traitor', 'villain', 'animal', 'ape', 'bear', 'bird', 'chicken', 'cow', 'dog', 'elephant', 'fish', 'lion', 'monkey', 'pig', 'shark', 'snake', 'beach', 'coast', 'earth', 'forest', 'island', 'lake', 'mountain', 'nature', 'ocean', 'planet', 'reef', 'river', 'sea', 'tree']"
      ],
      "execution_count": 7,
      "outputs": []
    },
    {
      "cell_type": "code",
      "metadata": {
        "id": "seFJb_UDIwYb",
        "colab_type": "code",
        "colab": {}
      },
      "source": [
        "control_entities_list = ['canon', 'bale', 'essay', 'crest', 'hide', 'razor', 'plot', 'iodine', 'timber', 'sole', 'gap', 'pulp', 'log', 'coil', 'cork', 'barrel', 'valve', 'strap', 'rail', 'closet', 'cabinet', 'bundle', 'postage', 'landing', 'font', 'tool', 'street', 'wall', 'mud', 'slice', 'section', 'rope', 'post', 'monitor', 'metal', 'limestone', 'granite', 'fluid', 'fiddle', 'fence', 'dash', 'chess', 'buckle', 'brass', 'bedding', 'bag', 'anvil', 'scissors', 'iron', 'trunk', 'vent', 'tongs', 'strand', 'staple', 'spur', 'ruler', 'pulley', 'platform', 'orb', 'net', 'mat', 'machine', 'hose', 'horn', 'embankment', 'digestive', 'credit', 'column', 'cap', 'bar', 'wheat', 'steps', 'steel', 'saddle', 'rod', 'organ', 'flank', 'factory', 'collar', 'barley', 'attic', 'piping', 'chimney', 'den', 'furnace', 'patch', 'peroxide', 'reins', 'rudder', 'sack', 'sediment', 'square', 'turnpike', 'floor', 'hedge', 'laboratory']\n"
      ],
      "execution_count": 8,
      "outputs": []
    },
    {
      "cell_type": "markdown",
      "metadata": {
        "id": "0j0iJMEaIt1p",
        "colab_type": "text"
      },
      "source": [
        "Frequency data for Final moral entities, in histwords models from 1830 - 2000"
      ]
    },
    {
      "cell_type": "code",
      "metadata": {
        "id": "_zz3VscHCIkv",
        "colab_type": "code",
        "colab": {}
      },
      "source": [
        "# focal_entities word counts\n",
        "\n",
        "for model in list_of_models:\n",
        "\n",
        "  with open('word_count_focal_entities_{}.csv'.format(model), 'wt') as file:\n",
        "    writer = csv.writer(file)\n",
        "    focal_entities_list.insert(0, \" \")\n",
        "    # Write the headings to the csv.\n",
        "    writer.writerow(focal_entities_list)\n",
        "    focal_entities_list.pop(0)\n",
        "\n",
        "  for i in range(1830,2000,10):\n",
        "    word_count_to_csv('word_count_focal_entities_{}.csv'.format(model), focal_entities_list, i, model)\n"
      ],
      "execution_count": 9,
      "outputs": []
    },
    {
      "cell_type": "markdown",
      "metadata": {
        "id": "2qAXFWRkJJjJ",
        "colab_type": "text"
      },
      "source": [
        "Frequency data for Final non-moral entities, in histwords models from 1830 - 2000"
      ]
    },
    {
      "cell_type": "code",
      "metadata": {
        "id": "PsIdxqBvlMcH",
        "colab_type": "code",
        "colab": {}
      },
      "source": [
        "# control_entities word counts\n",
        "\n",
        "for model in list_of_models:\n",
        "\n",
        "  with open('word_count_control_entities_{}.csv'.format(model), 'wt') as file:\n",
        "    writer = csv.writer(file)\n",
        "    control_entities_list.insert(0, \" \")\n",
        "    # Write the headings to the csv.\n",
        "    writer.writerow(control_entities_list)\n",
        "    control_entities_list.pop(0)\n",
        "\n",
        "  for i in range(1830,2000,10):\n",
        "    word_count_to_csv('word_count_control_entities_{}.csv'.format(model), control_entities_list, i, model)"
      ],
      "execution_count": 11,
      "outputs": []
    }
  ]
}